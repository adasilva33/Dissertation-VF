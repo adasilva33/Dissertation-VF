{
 "cells": [
  {
   "cell_type": "markdown",
   "metadata": {},
   "source": [
    "#### Libraries"
   ]
  },
  {
   "cell_type": "code",
   "execution_count": 1,
   "metadata": {},
   "outputs": [],
   "source": [
    "import matplotlib.pyplot as plt"
   ]
  },
  {
   "cell_type": "markdown",
   "metadata": {},
   "source": [
    "#### Read file"
   ]
  },
  {
   "cell_type": "code",
   "execution_count": 20,
   "metadata": {},
   "outputs": [],
   "source": [
    "def read_file(f_name):\n",
    "    dist = []\n",
    "    line_nu = -1\n",
    "    with open(f_name) as infile:\n",
    "        for line in infile:\n",
    "            line_nu += 1\n",
    "            if line_nu == 0:\n",
    "                index = int(line.split()[0]) * 2 + 1\n",
    "            if line_nu >= index:\n",
    "                temp = line.split()\n",
    "                temp[2] = int(temp[2])\n",
    "                temp[3] = int(temp[3])\n",
    "                dist.append(temp)\n",
    "            else:\n",
    "                dist.append(line.split())\n",
    "        info = dist[0:int(dist[0][0])*2+1]\n",
    "        flights = dist[int(dist[0][0])*2+1:]\n",
    "    return info, flights"
   ]
  },
  {
   "cell_type": "code",
   "execution_count": 21,
   "metadata": {},
   "outputs": [],
   "source": [
    "read_file=read_file(\"Flight connections dataset/1.in\")"
   ]
  },
  {
   "cell_type": "code",
   "execution_count": 31,
   "metadata": {},
   "outputs": [],
   "source": [
    "class data_preprocessing:\n",
    "    \n",
    "    def __init__(self,instance_path):\n",
    "        self.instance_path=instance_path\n",
    "        \n",
    "        self.instance=self.read_file(f_name=self.instance_path)\n",
    "        self.flights=self.flights_by_day(flight_list=self.instance[1])\n",
    "        \n",
    "    def read_file(self,f_name):\n",
    "        dist = []\n",
    "        line_nu = -1\n",
    "        with open(f_name) as infile:\n",
    "            for line in infile:\n",
    "                line_nu += 1\n",
    "                if line_nu == 0:\n",
    "                    index = int(line.split()[0]) * 2 + 1\n",
    "                if line_nu >= index:\n",
    "                    temp = line.split()\n",
    "                    temp[2] = int(temp[2])\n",
    "                    temp[3] = int(temp[3])\n",
    "                    dist.append(temp)\n",
    "                else:\n",
    "                    dist.append(line.split())\n",
    "            info = dist[0:int(dist[0][0])*2+1]\n",
    "            flights = dist[int(dist[0][0])*2+1:]\n",
    "        return info, flights\n",
    "    \n",
    "    def flights_by_day(self,flight_list):\n",
    "        # Create an empty dictionary to hold flights organized by day\n",
    "        flights_by_day = {}\n",
    "\n",
    "        # Iterate over each flight in the input list\n",
    "        for flight in flight_list:\n",
    "            # Extract the day from the flight entry\n",
    "            day = flight[2]\n",
    "\n",
    "            # Create a flight entry without the day\n",
    "            flight_without_day = flight[:2] + flight[3:]\n",
    "\n",
    "            # Add the flight to the corresponding day in the dictionary\n",
    "            if day not in flights_by_day:\n",
    "                flights_by_day[day] = []\n",
    "            flights_by_day[day].append(flight_without_day)\n",
    "\n",
    "        return flights_by_day\n",
    "    \n",
    "Data_Preprocessing=data_preprocessing(instance_path=\"Flight connections dataset/1.in\")"
   ]
  }
 ],
 "metadata": {
  "kernelspec": {
   "display_name": "Python 3",
   "language": "python",
   "name": "python3"
  },
  "language_info": {
   "codemirror_mode": {
    "name": "ipython",
    "version": 3
   },
   "file_extension": ".py",
   "mimetype": "text/x-python",
   "name": "python",
   "nbconvert_exporter": "python",
   "pygments_lexer": "ipython3",
   "version": "3.10.11"
  }
 },
 "nbformat": 4,
 "nbformat_minor": 2
}
